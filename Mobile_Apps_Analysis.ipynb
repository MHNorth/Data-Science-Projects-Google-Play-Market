{
 "cells": [
  {
   "cell_type": "markdown",
   "metadata": {},
   "source": [
    "## Profitable App Profiles for the App Store and Google Play Markets"
   ]
  },
  {
   "cell_type": "markdown",
   "metadata": {},
   "source": [
    "The objective of this data analysis project is to identify mobile apps that could potentially be profitable for the App store and Google Play markets.  As a Data Scientist and Full Stack Web Developer for the XYZ startup company, my job is to facilitate the development of Android and IOS mobile apps and enable our team and stakeholders to make data-driven decisions with respect to the kind of apps they should build.\n",
    "\n",
    "\n"
   ]
  },
  {
   "cell_type": "markdown",
   "metadata": {},
   "source": [
    "At XYZ startup company, we build apps that are free to download and install and take a user-centric approach to how we design the front and back end of the app.  Our primary source of revenue consists of in-app ads. This means that our revenue for any given app is mostly influenced by the number of users that use our app, which is why a user-friendly and UX approach to how we design and the type of mobile apps we bring to market are critical elements in our business model. And so, the main goal for this project is to analyze data to help our team understand what kinds of apps are likely to attract more users."
   ]
  },
  {
   "cell_type": "markdown",
   "metadata": {},
   "source": [
    "## Exploring the Data"
   ]
  },
  {
   "cell_type": "code",
   "execution_count": null,
   "metadata": {},
   "outputs": [],
   "source": []
  }
 ],
 "metadata": {
  "kernelspec": {
   "display_name": "Python 3",
   "language": "python",
   "name": "python3"
  },
  "language_info": {
   "codemirror_mode": {
    "name": "ipython",
    "version": 3
   },
   "file_extension": ".py",
   "mimetype": "text/x-python",
   "name": "python",
   "nbconvert_exporter": "python",
   "pygments_lexer": "ipython3",
   "version": "3.5.5"
  },
  "widgets": {
   "state": {},
   "version": "1.1.2"
  }
 },
 "nbformat": 4,
 "nbformat_minor": 2
}
